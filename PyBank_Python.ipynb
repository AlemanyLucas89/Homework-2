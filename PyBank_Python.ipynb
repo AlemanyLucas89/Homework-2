{
 "cells": [
  {
   "cell_type": "code",
   "execution_count": 127,
   "metadata": {},
   "outputs": [],
   "source": [
    "import csv\r\n",
    "import os\r\n",
    "import math\r\n"
   ]
  },
  {
   "cell_type": "code",
   "execution_count": 128,
   "metadata": {},
   "outputs": [],
   "source": [
    "with open('PyBank_Resources_budget.csv', 'r') as csv_file:\r\n",
    "    csv_reader = csv.reader(csv_file, delimiter=\",\")\r\n",
    "    header = next(csv_reader)\r\n",
    "\r\n",
    "    Month_count = []\r\n",
    "    revenue = []\r\n",
    "  \r\n",
    "\r\n",
    "    for line in csv_reader:\r\n",
    "        Month_count.append(line[0])\r\n",
    "        revenue.append(int(line[1]))\r\n",
    "        \r\n"
   ]
  },
  {
   "cell_type": "code",
   "execution_count": 129,
   "metadata": {},
   "outputs": [
    {
     "name": "stdout",
     "output_type": "stream",
     "text": [
      "Total Months:86\n"
     ]
    }
   ],
   "source": [
    "# Total_Months\r\n",
    "print(f\"Total Months:{len(Month_count)}\")"
   ]
  },
  {
   "cell_type": "code",
   "execution_count": 130,
   "metadata": {},
   "outputs": [
    {
     "name": "stdout",
     "output_type": "stream",
     "text": [
      "Total Profit Losses:38382578\n"
     ]
    }
   ],
   "source": [
    "# Sum for Profit/Losses\r\n",
    "\r\n",
    "print(f\"Total Profit Losses:{sum(revenue)}\")"
   ]
  },
  {
   "cell_type": "code",
   "execution_count": 131,
   "metadata": {},
   "outputs": [],
   "source": [
    "#The greatest increase in profits (date and amount) over the entire period.\r\n",
    "pass"
   ]
  },
  {
   "cell_type": "code",
   "execution_count": 132,
   "metadata": {},
   "outputs": [],
   "source": [
    "#The greatest decrease in losses (date and amount) over the entire period.\r\n",
    "pass"
   ]
  },
  {
   "cell_type": "code",
   "execution_count": 133,
   "metadata": {},
   "outputs": [
    {
     "name": "stdout",
     "output_type": "stream",
     "text": [
      "Average of Changes in:446309.05\n"
     ]
    }
   ],
   "source": [
    "#The average of the changes in Profit/Losses over the entire period.\r\n",
    "\r\n",
    "print(f\"Average of Changes in:{round(sum(revenue)/len(Month_count),2)}\")"
   ]
  },
  {
   "cell_type": "code",
   "execution_count": 134,
   "metadata": {},
   "outputs": [
    {
     "name": "stdout",
     "output_type": "stream",
     "text": [
      "FINANCIAL ANALYSIS\n",
      "-------------------------------\n",
      "Total Months:86\n",
      "Total Profit Losses:38382578\n",
      "Average of Changes in:446309.05\n"
     ]
    }
   ],
   "source": [
    "print(\"FINANCIAL ANALYSIS\")\r\n",
    "print(\"-------------------------------\")\r\n",
    "print(f\"Total Months:{len(Month_count)}\")\r\n",
    "print(f\"Total Profit Losses:{sum(revenue)}\")\r\n",
    "print(f\"Average of Changes in:{round(sum(revenue)/len(Month_count),2)}\")"
   ]
  },
  {
   "cell_type": "code",
   "execution_count": 138,
   "metadata": {},
   "outputs": [
    {
     "name": "stderr",
     "output_type": "stream",
     "text": [
      "<>:3: SyntaxWarning: 'str' object is not callable; perhaps you missed a comma?\n",
      "<>:3: SyntaxWarning: 'str' object is not callable; perhaps you missed a comma?\n",
      "<ipython-input-138-116ca1d6e97e>:3: SyntaxWarning: 'str' object is not callable; perhaps you missed a comma?\n",
      "  (f\"Total Months:{len(Month_count)}\")\n"
     ]
    },
    {
     "ename": "TypeError",
     "evalue": "'str' object is not callable",
     "output_type": "error",
     "traceback": [
      "\u001b[1;31m---------------------------------------------------------------------------\u001b[0m",
      "\u001b[1;31mTypeError\u001b[0m                                 Traceback (most recent call last)",
      "\u001b[1;32m<ipython-input-138-116ca1d6e97e>\u001b[0m in \u001b[0;36m<module>\u001b[1;34m\u001b[0m\n\u001b[0;32m      1\u001b[0m \u001b[1;32mwith\u001b[0m \u001b[0mopen\u001b[0m \u001b[1;33m(\u001b[0m\u001b[1;34m'Financial_Analysis.txt'\u001b[0m\u001b[1;33m,\u001b[0m \u001b[1;34m'w'\u001b[0m\u001b[1;33m)\u001b[0m \u001b[1;32mas\u001b[0m \u001b[0mfile_output\u001b[0m\u001b[1;33m:\u001b[0m\u001b[1;33m\u001b[0m\u001b[1;33m\u001b[0m\u001b[0m\n\u001b[0;32m      2\u001b[0m     file_output.write(\n\u001b[1;32m----> 3\u001b[1;33m         \u001b[1;33m(\u001b[0m\u001b[1;34mf\"Total Months:{len(Month_count)}\"\u001b[0m\u001b[1;33m)\u001b[0m\u001b[1;33m\u001b[0m\u001b[1;33m\u001b[0m\u001b[0m\n\u001b[0m\u001b[0;32m      4\u001b[0m         \u001b[1;33m(\u001b[0m\u001b[1;34mf\"Total Profit Losses:{sum(revenue)}\"\u001b[0m\u001b[1;33m)\u001b[0m\u001b[1;33m\u001b[0m\u001b[1;33m\u001b[0m\u001b[0m\n\u001b[0;32m      5\u001b[0m         (f\"Average of Changes in:{round(sum(revenue)/len(Month_count),2)}\"))\n",
      "\u001b[1;31mTypeError\u001b[0m: 'str' object is not callable"
     ]
    }
   ],
   "source": [
    "with open ('Financial_Analysis.txt', 'w') as file_output:\r\n",
    "    file_output.write(\r\n",
    "        (f\"Total Months:{len(Month_count)}\")\r\n",
    "        (f\"Total Profit Losses:{sum(revenue)}\")\r\n",
    "        (f\"Average of Changes in:{round(sum(revenue)/len(Month_count),2)}\"))"
   ]
  },
  {
   "cell_type": "code",
   "execution_count": null,
   "metadata": {},
   "outputs": [],
   "source": []
  }
 ],
 "metadata": {
  "kernelspec": {
   "display_name": "Python 3.8.5 64-bit ('base': conda)",
   "name": "python385jvsc74a57bd04478a6df9b3c1de7ad428593c226a17b217252cae65059c1775d82e9e288c515"
  },
  "language_info": {
   "codemirror_mode": {
    "name": "ipython",
    "version": 3
   },
   "file_extension": ".py",
   "mimetype": "text/x-python",
   "name": "python",
   "nbconvert_exporter": "python",
   "pygments_lexer": "ipython3",
   "version": "3.8.5"
  }
 },
 "nbformat": 4,
 "nbformat_minor": 4
}