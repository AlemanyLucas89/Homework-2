{
 "cells": [
  {
   "cell_type": "code",
   "execution_count": 26,
   "metadata": {},
   "outputs": [],
   "source": [
    "import csv\r\n",
    "import os\r\n",
    "import math\r\n"
   ]
  },
  {
   "cell_type": "code",
   "execution_count": 30,
   "metadata": {},
   "outputs": [],
   "source": [
    "with open('PyBank_Resources_budget.csv', 'r') as csv_file:\r\n",
    "    csv_reader = csv.reader(csv_file, delimiter=\",\")\r\n",
    "    header = next(csv_reader)\r\n",
    "\r\n",
    "    Month_count = []\r\n",
    "    revenue = []\r\n",
    "    change = []\r\n",
    "      \r\n",
    "\r\n",
    "    for line in csv_reader:\r\n",
    "        Month_count.append(line[0])\r\n",
    "        revenue.append(int(line[1]))\r\n",
    "        change.append(int(line[1]))\r\n"
   ]
  },
  {
   "cell_type": "code",
   "execution_count": 31,
   "metadata": {},
   "outputs": [
    {
     "name": "stdout",
     "output_type": "stream",
     "text": [
      "Total Months:86\n"
     ]
    }
   ],
   "source": [
    "# Total_Months\r\n",
    "print(f\"Total Months:{len(Month_count)}\")"
   ]
  },
  {
   "cell_type": "code",
   "execution_count": 32,
   "metadata": {},
   "outputs": [
    {
     "name": "stdout",
     "output_type": "stream",
     "text": [
      "Total Profit Losses:38382578\n"
     ]
    }
   ],
   "source": [
    "# Sum for Profit/Losses\r\n",
    "\r\n",
    "print(f\"Total Profit Losses:{sum(revenue)}\")"
   ]
  },
  {
   "cell_type": "code",
   "execution_count": 39,
   "metadata": {},
   "outputs": [
    {
     "name": "stdout",
     "output_type": "stream",
     "text": [
      "1170593\n",
      "Feb-2012\n",
      "-1196225\n",
      "Sep-2013\n"
     ]
    }
   ],
   "source": [
    "#The greatest increase in profits (date and amount) over the entire period.\r\n",
    "#The greatest decrease in losses (date and amount) over the entire period.\r\n",
    "\r\n",
    "Profits = change[0]\r\n",
    "Losses = change[0]\r\n",
    "\r\n",
    "for i in range(0, len(change),1):\r\n",
    "    Profits = max(Profits,change[i])\r\n",
    "    Profit_date = Month_count[change.index(max(change))]\r\n",
    "    Losses = min(Losses, change[i])\r\n",
    "    Loss_date = Month_count[change.index(min(change))]\r\n",
    "\r\n",
    "print(Profits)\r\n",
    "print(Profit_date)\r\n",
    "print(Losses)\r\n",
    "print(Loss_date)"
   ]
  },
  {
   "cell_type": "code",
   "execution_count": 43,
   "metadata": {},
   "outputs": [
    {
     "name": "stdout",
     "output_type": "stream",
     "text": [
      "Average of Changes in:446309.05\n"
     ]
    }
   ],
   "source": [
    "#The average of the changes in Profit/Losses over the entire period.\r\n",
    "\r\n",
    "print(f\"Average of Changes in:{round(sum(revenue)/len(Month_count),2)}\")"
   ]
  },
  {
   "cell_type": "code",
   "execution_count": 44,
   "metadata": {},
   "outputs": [
    {
     "name": "stdout",
     "output_type": "stream",
     "text": [
      "FINANCIAL ANALYSIS\n",
      "-------------------------------\n",
      "Total Months:86\n",
      "Total Profit Losses:38382578\n",
      "Average of Changes in:446309.05\n"
     ]
    }
   ],
   "source": [
    "print(\"FINANCIAL ANALYSIS\")\r\n",
    "print(\"-------------------------------\")\r\n",
    "print(f\"Total Months:{len(Month_count)}\")\r\n",
    "print(f\"Total Profit Losses:{sum(revenue)}\")\r\n",
    "print(f\"Average of Changes in:{round(sum(revenue)/len(Month_count),2)}\")"
   ]
  },
  {
   "cell_type": "code",
   "execution_count": 54,
   "metadata": {},
   "outputs": [],
   "source": [
    "with open ('Financial_Analysis.txt', 'w') as file:\r\n",
    "    file.write(\"FINANCIAL ANALYSIS\")\r\n",
    "\r\n",
    "    file.write(\"-------------------------------\")\r\n",
    "\r\n",
    "    file.write(f\"Total Months:{len(Month_count)}\")\r\n",
    "\r\n",
    "    file.write(f\"Total Profit Losses:{sum(revenue)}\")\r\n",
    "    \r\n",
    "    file.write(f\"Average of Changes in:{round(sum(revenue)/len(Month_count),2)}\")"
   ]
  },
  {
   "cell_type": "code",
   "execution_count": null,
   "metadata": {},
   "outputs": [],
   "source": []
  }
 ],
 "metadata": {
  "kernelspec": {
   "display_name": "Python 3.8.5 64-bit ('base': conda)",
   "name": "python385jvsc74a57bd04478a6df9b3c1de7ad428593c226a17b217252cae65059c1775d82e9e288c515"
  },
  "language_info": {
   "codemirror_mode": {
    "name": "ipython",
    "version": 3
   },
   "file_extension": ".py",
   "mimetype": "text/x-python",
   "name": "python",
   "nbconvert_exporter": "python",
   "pygments_lexer": "ipython3",
   "version": "3.8.5"
  }
 },
 "nbformat": 4,
 "nbformat_minor": 4
}