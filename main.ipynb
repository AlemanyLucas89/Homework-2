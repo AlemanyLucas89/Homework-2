{
 "cells": [
  {
   "cell_type": "code",
   "execution_count": 25,
   "metadata": {},
   "outputs": [],
   "source": [
    "import csv"
   ]
  },
  {
   "cell_type": "code",
   "execution_count": 26,
   "metadata": {},
   "outputs": [],
   "source": [
    "import pandas\r\n",
    "import numpy"
   ]
  },
  {
   "cell_type": "code",
   "execution_count": 27,
   "metadata": {},
   "outputs": [
    {
     "name": "stdout",
     "output_type": "stream",
     "text": [
      "        Date  Profit/Losses\n",
      "0   Jan-2010         867884\n",
      "1   Feb-2010         984655\n",
      "2   Mar-2010         322013\n",
      "3   Apr-2010         -69417\n",
      "4   May-2010         310503\n",
      "..       ...            ...\n",
      "81  Oct-2016         102685\n",
      "82  Nov-2016         795914\n",
      "83  Dec-2016          60988\n",
      "84  Jan-2017         138230\n",
      "85  Feb-2017         671099\n",
      "\n",
      "[86 rows x 2 columns]\n"
     ]
    }
   ],
   "source": [
    "budget_dataframe = pandas.read_csv('C:/Users/Alema/Desktop/FinTechClass/Homework_2/PyBank_Resources_budget.csv', delimiter=',')\r\n",
    "budget_dataframe.head()\r\n",
    "print(budget_dataframe)"
   ]
  },
  {
   "cell_type": "code",
   "execution_count": 28,
   "metadata": {},
   "outputs": [
    {
     "data": {
      "text/plain": "'38,382,578'"
     },
     "execution_count": 28,
     "metadata": {},
     "output_type": "execute_result"
    }
   ],
   "source": [
    "# Sum for Profit/Losses\r\n",
    "\r\n",
    "Total_Profit_Losses = budget_dataframe['Profit/Losses'].sum()\r\n",
    "'{:,}'.format(Total_Profit_Losses)"
   ]
  },
  {
   "cell_type": "code",
   "execution_count": 29,
   "metadata": {},
   "outputs": [],
   "source": [
    "# Total_Months\r\n",
    "df = budget_dataframe\r\n",
    "nrows = df.shape[0]\r\n",
    "Total_Months = nrows"
   ]
  },
  {
   "cell_type": "code",
   "execution_count": 30,
   "metadata": {},
   "outputs": [
    {
     "data": {
      "text/plain": "86"
     },
     "execution_count": 30,
     "metadata": {},
     "output_type": "execute_result"
    }
   ],
   "source": [
    "Total_Months\r\n"
   ]
  },
  {
   "cell_type": "code",
   "execution_count": 31,
   "metadata": {},
   "outputs": [
    {
     "data": {
      "text/plain": "Date             Sep-2016\nProfit/Losses     1170593\ndtype: object"
     },
     "execution_count": 31,
     "metadata": {},
     "output_type": "execute_result"
    }
   ],
   "source": [
    "#The greatest increase in profits (date and amount) over the entire period.\r\n",
    "df = budget_dataframe\r\n",
    "col_max = df.max(axis=0)\r\n",
    "col_max"
   ]
  },
  {
   "cell_type": "code",
   "execution_count": 32,
   "metadata": {},
   "outputs": [
    {
     "data": {
      "text/plain": "Date             Apr-2010\nProfit/Losses    -1196225\ndtype: object"
     },
     "execution_count": 32,
     "metadata": {},
     "output_type": "execute_result"
    }
   ],
   "source": [
    "#The greatest decrease in losses (date and amount) over the entire period.\r\n",
    "df = budget_dataframe\r\n",
    "col_min = df.min(axis=0)\r\n",
    "col_min"
   ]
  },
  {
   "cell_type": "code",
   "execution_count": 33,
   "metadata": {},
   "outputs": [
    {
     "data": {
      "text/plain": "Profit/Losses    446309.046512\ndtype: float64"
     },
     "execution_count": 33,
     "metadata": {},
     "output_type": "execute_result"
    }
   ],
   "source": [
    "#The average of the changes in Profit/Losses over the entire period.\r\n",
    "df = budget_dataframe\r\n",
    "col_mean = df.mean(axis=0)\r\n",
    "col_mean"
   ]
  },
  {
   "cell_type": "code",
   "execution_count": 34,
   "metadata": {},
   "outputs": [
    {
     "name": "stdout",
     "output_type": "stream",
     "text": [
      "FINANCIAL ANALYSIS\n",
      "-------------------------------\n",
      "Total Months:86\n",
      "Total Profit Losses:38,382,578\n",
      "Greatest Increase in profits:Date             Sep-2016\n",
      "Profit/Losses     1170593\n",
      "dtype: object\n",
      "Greatest Decrease in profits:Date             Apr-2010\n",
      "Profit/Losses    -1196225\n",
      "dtype: object\n",
      "Average of Changes in:Profit/Losses    446309.046512\n",
      "dtype: float64\n"
     ]
    }
   ],
   "source": [
    "print(\"FINANCIAL ANALYSIS\")\r\n",
    "print(\"-------------------------------\")\r\n",
    "print(f\"Total Months:{Total_Months}\")\r\n",
    "print(f\"Total Profit Losses:{'{:,}'.format(Total_Profit_Losses)}\")\r\n",
    "print(f\"Greatest Increase in profits:{col_max}\")\r\n",
    "print(f\"Greatest Decrease in profits:{col_min}\")\r\n",
    "print(f\"Average of Changes in:{col_mean}\")"
   ]
  },
  {
   "cell_type": "code",
   "execution_count": null,
   "metadata": {},
   "outputs": [],
   "source": []
  },
  {
   "cell_type": "code",
   "execution_count": null,
   "metadata": {},
   "outputs": [],
   "source": []
  }
 ],
 "metadata": {
  "kernelspec": {
   "display_name": "Python 3.8.5 64-bit ('base': conda)",
   "name": "python385jvsc74a57bd04478a6df9b3c1de7ad428593c226a17b217252cae65059c1775d82e9e288c515"
  },
  "language_info": {
   "codemirror_mode": {
    "name": "ipython",
    "version": 3
   },
   "file_extension": ".py",
   "mimetype": "text/x-python",
   "name": "python",
   "nbconvert_exporter": "python",
   "pygments_lexer": "ipython3",
   "version": "3.8.5"
  }
 },
 "nbformat": 4,
 "nbformat_minor": 4
}